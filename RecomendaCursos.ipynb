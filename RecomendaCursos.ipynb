{
  "nbformat": 4,
  "nbformat_minor": 0,
  "metadata": {
    "colab": {
      "provenance": [],
      "authorship_tag": "ABX9TyOBntLdAQyxRJ0saZwT3y2x",
      "include_colab_link": true
    },
    "kernelspec": {
      "name": "python3",
      "display_name": "Python 3"
    },
    "language_info": {
      "name": "python"
    }
  },
  "cells": [
    {
      "cell_type": "markdown",
      "metadata": {
        "id": "view-in-github",
        "colab_type": "text"
      },
      "source": [
        "<a href=\"https://colab.research.google.com/github/OscarSolarte/imersao_IA/blob/main/RecomendaCursos.ipynb\" target=\"_parent\"><img src=\"https://colab.research.google.com/assets/colab-badge.svg\" alt=\"Open In Colab\"/></a>"
      ]
    },
    {
      "cell_type": "markdown",
      "source": [
        "# **RECOMENDA CURSOS**"
      ],
      "metadata": {
        "id": "OssA1zUfuuMG"
      }
    },
    {
      "cell_type": "markdown",
      "source": [
        "**Instalando SDK do Google**"
      ],
      "metadata": {
        "id": "fcCubjPXuhI9"
      }
    },
    {
      "cell_type": "code",
      "execution_count": 1,
      "metadata": {
        "id": "4f3HOYaxuc9N"
      },
      "outputs": [],
      "source": [
        "!pip install -q -U google-generativeai"
      ]
    },
    {
      "cell_type": "markdown",
      "source": [
        "**Ativando o Google API_KEY & Armazena a chave API de forma segura**"
      ],
      "metadata": {
        "id": "89bKzUiMu_e1"
      }
    },
    {
      "cell_type": "code",
      "source": [
        "import google.generativeai as genai\n",
        "from google.colab import userdata\n",
        "GOOGLE_API_KEY = userdata.get(\"SECRET_KEY\")\n",
        "genai.configure(api_key=GOOGLE_API_KEY)"
      ],
      "metadata": {
        "id": "bEFWwTqVvDm1"
      },
      "execution_count": 2,
      "outputs": []
    },
    {
      "cell_type": "markdown",
      "source": [
        "**Listar os Modelos disponíveis**"
      ],
      "metadata": {
        "id": "20iOGKZevRA9"
      }
    },
    {
      "cell_type": "code",
      "source": [
        "for m in genai.list_models():\n",
        "    if 'generateContent' in m.supported_generation_methods:\n",
        "        print(m.name)"
      ],
      "metadata": {
        "colab": {
          "base_uri": "https://localhost:8080/",
          "height": 139
        },
        "id": "5_OyhZrVvUi7",
        "outputId": "ab0837e5-3bc1-44a7-eb4e-f30610315c54"
      },
      "execution_count": 3,
      "outputs": [
        {
          "output_type": "stream",
          "name": "stdout",
          "text": [
            "models/gemini-1.0-pro\n",
            "models/gemini-1.0-pro-001\n",
            "models/gemini-1.0-pro-latest\n",
            "models/gemini-1.0-pro-vision-latest\n",
            "models/gemini-1.5-pro-latest\n",
            "models/gemini-pro\n",
            "models/gemini-pro-vision\n"
          ]
        }
      ]
    },
    {
      "cell_type": "markdown",
      "source": [
        "**Configurações de geração**"
      ],
      "metadata": {
        "id": "1vTgj99CvXEi"
      }
    },
    {
      "cell_type": "code",
      "source": [
        "generation_config = {\n",
        "    \"candidate_count\": 1,\n",
        "    \"temperature\": 0.9,\n",
        "}"
      ],
      "metadata": {
        "id": "_mOmu3MjvZ50"
      },
      "execution_count": 47,
      "outputs": []
    },
    {
      "cell_type": "markdown",
      "source": [
        "**Configurações de segurança**"
      ],
      "metadata": {
        "id": "z5b2C_98vdBO"
      }
    },
    {
      "cell_type": "code",
      "source": [
        "safety_settings = {\n",
        "    \"HARASSMENT\": \"BLOCK_NONE\",\n",
        "    \"HATE\": \"BLOCK_NONE\",\n",
        "    \"SEXUAL\": \"BLOCK_NONE\",\n",
        "    \"DANGEROUS\": \"BLOCK_NONE\",\n",
        "}\n"
      ],
      "metadata": {
        "id": "QvMZeJBOvgJc"
      },
      "execution_count": 48,
      "outputs": []
    },
    {
      "cell_type": "markdown",
      "source": [
        "**Inicializando o modelo**"
      ],
      "metadata": {
        "id": "ZId5GNTSviV7"
      }
    },
    {
      "cell_type": "code",
      "source": [
        "model = genai.GenerativeModel(model_name=\"gemini-1.0-pro\",\n",
        "                              generation_config=generation_config,\n",
        "                              safety_settings=safety_settings)\n"
      ],
      "metadata": {
        "id": "RCGphs_5vqme"
      },
      "execution_count": 49,
      "outputs": []
    },
    {
      "cell_type": "markdown",
      "source": [
        "**Função para gerar recomendações de cursos com base no texto do documento**"
      ],
      "metadata": {
        "id": "9R5Ogd1WvuFk"
      }
    },
    {
      "cell_type": "code",
      "source": [
        "def gerar_recomendacoes(texto_documento):\n",
        "    response = model.generate_content(\n",
        "        \"Você é um consultor educativo e baseado no seguinte texto da CV, recomende os melhores cursos online gratuitos que a pessoa que envia sua informação deveria fazer para aprimorar a sua carreira, trazendo os links principais que funcionem de cada um dos cursos recomendados: \" + texto_documento\n",
        "    )\n",
        "    return response.text"
      ],
      "metadata": {
        "id": "fM9WvW0avwwU"
      },
      "execution_count": 51,
      "outputs": []
    },
    {
      "cell_type": "markdown",
      "source": [
        "**Recebendo o texto do documento do usuário**"
      ],
      "metadata": {
        "id": "FhYTpieFvzMD"
      }
    },
    {
      "cell_type": "code",
      "source": [
        "texto_documento = input(\"Por favor, cole aqui o texto do seu CV e de enter: \")\n"
      ],
      "metadata": {
        "colab": {
          "base_uri": "https://localhost:8080/"
        },
        "id": "RgrBKghsv2os",
        "outputId": "4318f02d-e17b-49fe-8484-68dddbec4cbe"
      },
      "execution_count": 61,
      "outputs": [
        {
          "name": "stdout",
          "output_type": "stream",
          "text": [
            "Por favor, cole aqui o texto do seu CV e de enter: Oscar Solarte Gerente de Operações e Processos | Gerente de Projetos | Latam São Paulo, São Paulo, Brasil Resumo Profissional experiente em gestão de operações, processos e portfolio de projetos táticos e estratégicos. Especializado em impulsionar operações eficientes, otimizar processos e recursos, e conduzir projetos complexos multifacetados, tanto no âmbito operacional quanto de tecnologia da informação, sempre focado na obtenção de excelência operacional, competitividade, e melhor rentabilidade. Complementa o perfil de gestão do portfólio de projetos e operações, a alta capacidade analítica, orientação aos detalhes, resultados e clientes, líder com habilidade na gestão de equipes multidisciplinares de alto desempenho. Minha fluência em português, inglês e espanhol nativo, me permite liderar e desenvolver negócios em cenários internacionais diversificados. Certificações: Scrum Master - PSM I - Six Sigma Yellow Belt Conhecimentos práticos em: - Gestão de projetos: Tradicional PMP, Agile - Scrum - Outros: gestão de OKRs, Ciclo PDCA, BSC, BPMN. Kanban Conhecimentos Técnicos: Visio, Bizagi, JIRA, Power BI, SQL e Python. Experiência BLS Group - Business & Logistics Strategies Gerente de Operações & Projetos | Fundador fevereiro de 2015 - Present (9 anos 4 meses) São Paulo, São Paulo, Brazil Page 1 of 6Empresa individual de consultoria especializada em gestão de operações e projetos nas áreas de processos, operações logísticas, tecnologia e transformação digital, para empresas de pequeno e médio porte na América Latina. Foco no desenho de soluções personalizadas para resolver desafios de eficiência operacional, visando aprimorar o desempenho no mercado. Desenvolvi projetos nas seguintes empresas: Red Unit Security – Cybersecurity Startup Gerente de Operações e produto • Desenvolvi o planejamento estratégico e tático. • Liderei a criação e implementação dos 14 processos operacionais, indicadores chaves e métricas para garantir a excelência operacional. • Implementei OKRs e os 15 indicadores-chave de desempenho (KPIs) com aumento de 10% na produtividade. • Planejei e gerenciei projetos ágeis para o desenvolvimento dos produtos dgitais cibersegurança, com taxa de uso de recursos de 95%. Benfitbox – HR Tech Startup (co-fundador) Gerente de Operações • Gestão operacional com focadas na geração de eficiências • Implementação dos projetos de desenvolvimento de produtos e serviços. Adarna Health Data - Data Analytics Startup Consultor de operações e projetos • Estruturar e coordenar o portfólio dos projetos de desenvolvimento de soluções personalizadas de data analytics e Machine learning. • Implementei projeto de desenvolvimento e operacionalização da análise de dados para cliente multinacional do segmento farmacêutico com Total Contract Value de R$1 Milhão. Libbey Inc – Empresa Norteamericana do setor de artigos de vidro e soluções de mesa Consultor em operações logísticas • Desenhei a estratégia de Supply Chain, logística e geolocalização de centros de distribuição. • Elaborei estratégia de entrada no mercado Colombiano com redução de custos de 10%. Micol Ltda – Empresa colombiana de serviços de instalações para o setor energético Page 2 of 6Consultor de operações logísticas • Implementei a matriz de controle dos custos logísticos, com 20% de economias mensais. Kaiser Associates Consultor Associado - Estrategia & Operações janeiro de 2018 - julho de 2018 (7 meses) São Paulo e Região, Brasil A Kaiser Associates é uma empresa global de consultoria em estratégia que assessora as principais organizações do mundo por meio de nossa abordagem inovadora para gerar insights inovadores e baseados em fatos. Essa abordagem inovadora é usada em todo o trabalho de estratégia, design e implementação, a fim de solucionar os problemas mais difíceis e prementes dos clientes e criar resultados excepcionais para os clientes. • Participar dos projetos de planejamento estratégico, go-to market e de crescimento dos clientes. • Realizar pesquisa primaria e secundaria para estruturar análises competitivas em diversos segmentos. Colsubsidio Gerente de Tecnologia da Informação - Varejo fevereiro de 2013 - fevereiro de 2015 (2 anos 1 mês) Bogotá D.C. Area, Colombia Maior empresa de remuneração e previdência da Colômbia, mais de 12.000 funcionários, 335 lojas de varejo (Supermercados e Drogarías). • Reportei ao Chief Information Officer (CIO) • Gerenciei projetos de transformação tecnológica: - Projeto SAP Delivery Medicine - Orçamento de US $ 4 milhões em dólares - Renovação do sistema de PDV - Orçamento de US $ 4,5 milhões em dólares - Comércio eletrônico - Orçamento de US $ 5,5 milhões em dólares • Atuar como Business Partner e realizar atividades de melhoria de processos de Tecnologia. • Gestão do modelo Operacional de TI, e controle dos serviços para os negócios de varejo e Logística. • Gerenciei orçamento anual de de US $ 3 milhões para a operação tecnológica dos negócios. Page 3 of 6Dole Food Company 2 anos 6 meses Gerente Sênior de Operações (Divisão Flores) fevereiro de 2010 - agosto de 2010 (7 meses) Bogotá D.C. Area, Colombia Grupo de Agronegócio, produtor e exportador de flores com 7.000 funcionários e US $ 3,5 bilhões de receita • Gerenciei 550 funcionários operacionais • Integrei os sistemas de gestão para otimizar processos administrativos, melhorar a visibilidade da informação e a agilizar a tomada de decisões. • Implementei e controlei os indicadores-chave de desempenho para avaliar o progresso das melhorias. • Gerenciei um orçamento de US$ 10 milhões, garantindo conformidade com metas financeiras. • Conduzi iniciativas de melhoria de processos e automatização de tarefas, gerando redução de 15% nos custos operacionais. Gerente de Projetos de Inventarios e Logística (Divisão Flores) março de 2008 - janeiro de 2010 (1 ano 11 meses) Bogotá D.C. Area, Colombia • Reportei diretamente ao vicepresidente de Operações • Gerenciei 20 funcionários de controle de estoques (1 para cada fazenda). • Desenvolvi projetos logísticos para melhora dos processos operacionais, aprimoramento de estoques, mediante o uso da tecnologia e os dados. • Respondi pelo controle dos estoques de produto em processo e final nas empresas do grupo. • Melhorei a confiabilidade do estoque de 85% para 94% gerando economia de US $ 100.000 mensais • Implementei \"Sistema de Rastreamento por Unidade para flores\", gerando diminuição de 35% do desperdício e maus tratos nas flores. • Implementei os módulos de produção e estoque do sistema ERP para póscolheita (JD Edwards) • Implementei o projeto “Mecanização do processo pós-colheita”, melhoria de 25% na produtividade. Grupo Norma - Carvajal 5 anos 1 mês Gerente de Logística e Distribuição maio de 2003 - outubro de 2006 (3 anos 6 meses) Valle del Cauca Area, Colombia Page 4 of 6Editorial Colombiana com renda de US $ 1,5 bilhão, empresa do grupo Carvajal S.A.S • Reportei diretamente ao Diretor de Finanças e Operações • Gerenciei a operação logística e os centros de distribuição nacionais, com mais de 50 funcionários. • Gerenciei um orçamento para toda a operação logística de US$ 1 milhão. • Responsável pela análise, projeto e otimização dos processos dos Centros de Distribuição, planejamento da cadeia de suprimentos e departamento de logística atingindo eficiências operacionais superiores a 20% ao mês. • Estabeleci e controlei os Indicadores de desempenho da operação logística completa. • Gerencia eficiente dos recursos financeiros para o departamento de planejamento e Supply Chain, atingindo. economias de 15% mês. • Gerenciei a implementação de um Warehouse Management System (WMS) atingindo 98% da precisão do estoque mensal. • Desenvolvi iniciativas de produtividade e melhoria de processos em armazenamento e distribuição, reduzindo 10% dos tempos de picking e embalagem. • Gerenciei a relocação do Centro de Distribuição com economias de 30% do orçamento estimado. • Gerenciei a implementação do sistema ERP (Oracle) para a operação logística. Especialista de Compras Estratégicas outubro de 2001 - abril de 2003 (1 ano 7 meses) Valle del Cauca Area, Colombia • Reportei diretamente ao Diretor de Compras. • Gerenciei 2 funcionários de compras estratégicas e 3 pessoas do time de controle de qualidade. • Negociei a produção da impressão de livros e material promocional em âmbito nacional e internacional. (grandes volumes). • Desenvolvi estratégias e controles para avaliação e seleção de fornecedores de qualidade. • Implementei projetos de melhoria de processos operacionais e de redução de custos em compras alcançando economias de 20% ao ano. Formação acadêmica Hult International Business School MBA, Gerencia de Consultoria e Operações · (2010 - 2011) Page 5 of 6Universidad ICESI Mestrado , Gestão de logística · (2003 - 2005) FIA Business School - Proinfo (FIA Information Technology and Education Program) Formação de Líderes Digitais - C.D.O - Chief Digital Officer, Computer/ Information Technology Administration and Management · (setembro de 2020) Pontifícia Universidade Católica do Rio Grande do Sul Competências Profissionais, Emocionais e Tecnológicas para Tempos de Mudança, Produtividade · (2020 - 2020) AAA Inovação Certificação, Curso de Tendências - Construindo o Futuro Observando o Presente · (2020 - 2020)\n"
          ]
        }
      ]
    },
    {
      "cell_type": "markdown",
      "source": [
        "**Gerando recomendações**"
      ],
      "metadata": {
        "id": "gzTWHMTCv9Tc"
      }
    },
    {
      "cell_type": "code",
      "source": [
        "recomendacoes = gerar_recomendacoes(texto_documento)\n",
        "print(\"Depois de avaliado seu CV, Recomendamos os seguintes Cursos:\")\n",
        "\n",
        "import textwrap\n",
        "from IPython.display import display, Markdown\n",
        "\n",
        "def to_markdown(text):\n",
        "    text = text.replace('•', '  *')\n",
        "    return Markdown(textwrap.indent(text, '> ', predicate=lambda _: True))\n",
        "\n",
        "display(to_markdown(recomendacoes))"
      ],
      "metadata": {
        "colab": {
          "base_uri": "https://localhost:8080/",
          "height": 417
        },
        "id": "jkq2m-R6wBBz",
        "outputId": "9b7b6377-f18e-4a70-9374-8ae62cc5fb75"
      },
      "execution_count": 62,
      "outputs": [
        {
          "output_type": "stream",
          "name": "stdout",
          "text": [
            "Depois de avaliado seu CV, Recomendamos os seguintes Cursos:\n"
          ]
        },
        {
          "output_type": "display_data",
          "data": {
            "text/plain": [
              "<IPython.core.display.Markdown object>"
            ],
            "text/markdown": "> **Cursos Online Gratuitos Recomendados:**\n> \n> **1. Gestão de Projetos Agile para Profissionais (Coursera):**\n> * Link: https://www.coursera.org/specializations/project-management-agile-professionals\n> * Aprimore suas habilidades de gerenciamento de projetos Agile, expandindo seu conhecimento sobre Scrum, Kanban e métodos híbridos.\n> \n> **2. Liderança Estratégica para Gerentes (edX):**\n> * Link: https://www.edx.org/course/strategic-leadership-for-managers\n> * Desenvolver habilidades de liderança estratégica, aprendendo a definir a visão e a missão da empresa, desenvolver estratégias e motivando equipes.\n> \n> **3. Melhoria de Processos de Negócios (LinkedIn Learning):**\n> * Link: https://www.linkedin.com/learning/business-process-improvement\n> * Domine os princípios e técnicas de melhoria de processos, aumentando a eficiência, a qualidade e a satisfação do cliente.\n> \n> **4. Gerenciamento de Portfólio de Projetos (Udemy):**\n> * Link: https://www.udemy.com/course/gerenciamento-de-portfolio-de-projetos-para-iniciantes/\n> * Aprenda os fundamentos do gerenciamento de portfólio de projetos, incluindo priorização, planejamento e otimização de recursos.\n> \n> **5. Análise de Dados para Tomada de Decisão (edX):**\n> * Link: https://www.edx.org/course/data-analytics-for-decision-making\n> * Desenvolva habilidades analíticas de dados para interpretar dados, identificar tendências e tomar decisões informadas."
          },
          "metadata": {}
        }
      ]
    }
  ]
}